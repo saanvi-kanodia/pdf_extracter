{
 "cells": [
  {
   "cell_type": "code",
   "execution_count": 1,
   "id": "eb1b6b7b",
   "metadata": {},
   "outputs": [
    {
     "name": "stdout",
     "output_type": "stream",
     "text": [
      "/Users/mac/.zshenv:1: command not found: 0x0:0x0\n",
      "Collecting pymupdf\n",
      "  Downloading pymupdf-1.26.0-cp39-abi3-macosx_10_9_x86_64.whl.metadata (3.4 kB)\n",
      "Collecting pytesseract\n",
      "  Downloading pytesseract-0.3.13-py3-none-any.whl.metadata (11 kB)\n",
      "Requirement already satisfied: pillow in /Library/Frameworks/Python.framework/Versions/3.13/lib/python3.13/site-packages (11.2.1)\n",
      "Requirement already satisfied: packaging>=21.3 in /Library/Frameworks/Python.framework/Versions/3.13/lib/python3.13/site-packages (from pytesseract) (24.2)\n",
      "Downloading pymupdf-1.26.0-cp39-abi3-macosx_10_9_x86_64.whl (23.2 MB)\n",
      "\u001b[2K   \u001b[90m━━━━━━━━━━━━━━━━━━━━━━━━━━━━━━━━━━━━━━━━\u001b[0m \u001b[32m23.2/23.2 MB\u001b[0m \u001b[31m1.2 MB/s\u001b[0m eta \u001b[36m0:00:00\u001b[0m00:01\u001b[0m00:01\u001b[0m\n",
      "\u001b[?25hDownloading pytesseract-0.3.13-py3-none-any.whl (14 kB)\n",
      "Installing collected packages: pytesseract, pymupdf\n",
      "\u001b[2K   \u001b[90m━━━━━━━━━━━━━━━━━━━━━━━━━━━━━━━━━━━━━━━━\u001b[0m \u001b[32m2/2\u001b[0m [pymupdf]m1/2\u001b[0m [pymupdf]\n",
      "\u001b[1A\u001b[2KSuccessfully installed pymupdf-1.26.0 pytesseract-0.3.13\n"
     ]
    }
   ],
   "source": [
    "!pip3 install pymupdf pytesseract pillow"
   ]
  },
  {
   "cell_type": "code",
   "execution_count": null,
   "id": "b8a9a78c",
   "metadata": {},
   "outputs": [
    {
     "name": "stdout",
     "output_type": "stream",
     "text": [
      "Page 1 has 0 images.\n",
      "\n",
      "✅ Extraction complete.\n",
      "Text saved to: output/extracted_text.txt\n",
      "0 images saved to: output\n",
      "Metadata saved to: output/summary.json\n"
     ]
    },
    {
     "data": {
      "text/plain": [
       "{'total_pages': 1, 'total_images': 0, 'text_file': 'output/extracted_text.txt'}"
      ]
     },
     "execution_count": 12,
     "metadata": {},
     "output_type": "execute_result"
    }
   ],
   "source": [
    "import fitz  # PyMuPDF\n",
    "import os\n",
    "import json\n",
    "\n",
    "def extract_pdf_content(pdf_path, output_dir=\"output\"):\n",
    "    # Create output folder if it doesn't exist\n",
    "    os.makedirs(output_dir, exist_ok=True)\n",
    "\n",
    "    # Open the PDF\n",
    "    doc = fitz.open(pdf_path)\n",
    "\n",
    "    full_text = \"\"\n",
    "    image_paths = []\n",
    "    total_images = 0\n",
    "\n",
    "    for page_num, page in enumerate(doc, start=1):\n",
    "        # ---- Extract Text ----\n",
    "        page_text = page.get_text()\n",
    "        full_text += f\"\\n--- Page {page_num} ---\\n{page_text}\"\n",
    "\n",
    "        # ---- Extract Images ----\n",
    "        image_list = page.get_images(full=True)\n",
    "        print(f\"Page {page_num} has {len(image_list)} images.\")\n",
    "\n",
    "        for img_index, img in enumerate(image_list):\n",
    "            xref = img[0]\n",
    "            base_image = doc.extract_image(xref)\n",
    "            image_bytes = base_image[\"image\"]\n",
    "            image_ext = base_image[\"ext\"]\n",
    "\n",
    "            image_filename = f\"page_{page_num}_img_{img_index+1}.{image_ext}\"\n",
    "            image_path = os.path.join(output_dir, image_filename)\n",
    "\n",
    "            with open(image_path, \"wb\") as f:\n",
    "                f.write(image_bytes)\n",
    "\n",
    "            #image_paths.append(image_path)\n",
    "            total_images += 1\n",
    "            print(f\"Saved: {image_path}\")\n",
    "\n",
    "    # ---- Save text to a .txt file ----\n",
    "    text_file = os.path.join(output_dir, \"extracted_text.txt\")\n",
    "    with open(text_file, \"w\", encoding=\"utf-8\") as f:\n",
    "        f.write(full_text)\n",
    "\n",
    "    # ---- Save structured metadata to JSON ----\n",
    "    metadata = {\n",
    "        \"total_pages\": len(doc),\n",
    "        \"total_images\": total_images,\n",
    "        \"text_file\": text_file\n",
    "    }\n",
    "\n",
    "    json_file = os.path.join(output_dir, \"summary.json\")\n",
    "    with open(json_file, \"w\", encoding=\"utf-8\") as f:\n",
    "        json.dump(metadata, f, indent=4)\n",
    "\n",
    "    print(\"\\n✅ Extraction complete.\")\n",
    "    print(f\"Text saved to: {text_file}\")\n",
    "    print(f\"{total_images} images saved to: {output_dir}\")\n",
    "    print(f\"Metadata saved to: {json_file}\")\n",
    "    return metadata\n",
    "\n",
    "# ==== RUN ====\n",
    "# Replace this with your actual PDF path\n",
    "pdf_path = \"pdf2.pdf\"\n",
    "extract_pdf_content(pdf_path)\n"
   ]
  },
  {
   "cell_type": "code",
   "execution_count": 8,
   "id": "e2e7d82a",
   "metadata": {},
   "outputs": [
    {
     "name": "stdout",
     "output_type": "stream",
     "text": [
      "Page 1 has 1 images.\n",
      "Saved: output/page_1_img_1.jpeg\n",
      "Page 2 has 1 images.\n",
      "Saved: output/page_2_img_1.jpeg\n",
      "Page 3 has 2 images.\n",
      "Saved: output/page_3_img_1.png\n",
      "Saved: output/page_3_img_2.jpeg\n",
      "\n",
      "✅ Extraction complete.\n",
      "Text saved to: output/extracted_text.txt\n",
      "4 images saved to: output\n",
      "Metadata saved to: output/summary.json\n"
     ]
    },
    {
     "data": {
      "text/plain": [
       "{'total_pages': 3,\n",
       " 'total_images': 4,\n",
       " 'images': ['output/page_1_img_1.jpeg',\n",
       "  'output/page_2_img_1.jpeg',\n",
       "  'output/page_3_img_1.png',\n",
       "  'output/page_3_img_2.jpeg'],\n",
       " 'text_file': 'output/extracted_text.txt'}"
      ]
     },
     "execution_count": 8,
     "metadata": {},
     "output_type": "execute_result"
    }
   ],
   "source": [
    "pdf_path = \"pdf2.pdf\"\n",
    "extract_pdf_content(pdf_path)"
   ]
  }
 ],
 "metadata": {
  "kernelspec": {
   "display_name": "venv",
   "language": "python",
   "name": "venv"
  },
  "language_info": {
   "codemirror_mode": {
    "name": "ipython",
    "version": 3
   },
   "file_extension": ".py",
   "mimetype": "text/x-python",
   "name": "python",
   "nbconvert_exporter": "python",
   "pygments_lexer": "ipython3",
   "version": "3.13.3"
  }
 },
 "nbformat": 4,
 "nbformat_minor": 5
}
